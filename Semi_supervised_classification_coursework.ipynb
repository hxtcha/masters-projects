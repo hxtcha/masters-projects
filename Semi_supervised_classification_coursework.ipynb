{
 "cells": [
  {
   "cell_type": "markdown",
   "metadata": {
    "deletable": false,
    "editable": false,
    "nbgrader": {
     "cell_type": "markdown",
     "checksum": "e020aa8803f726debe0243c8dcb883db",
     "grade": false,
     "grade_id": "cell-5b380f3ebea387f7",
     "locked": true,
     "schema_version": 3,
     "solution": false,
     "task": false
    }
   },
   "source": [
    "# MTH793P - Coursework 1\n",
    "\n",
    "This is a template notebook for the computational exercises of Coursework #1 of the module MTH793P, Advanced Machine Learning. Closely follow the instructions in this template in order to complete the assessment and to obtain full marks. Please only modify cells where you are instructed to do so. Failure to comply may result in unexpected errors that can lead to mark deductions.\n",
    "\n",
    "As usual, we begin by loading the necessary libraries."
   ]
  },
  {
   "cell_type": "code",
   "execution_count": 9,
   "metadata": {
    "nbgrader": {
     "cell_type": "code",
     "checksum": "b0bf833b6649619ec29a89ea0110f6af",
     "grade": false,
     "grade_id": "cell-c2e04b8c88b5505b",
     "locked": true,
     "schema_version": 3,
     "solution": false,
     "task": false
    }
   },
   "outputs": [],
   "source": [
    "import numpy as np\n",
    "import matplotlib.pyplot as plt\n",
    "from scipy import sparse as sp\n",
    "# from scipy.sparse import linalg"
   ]
  },
  {
   "cell_type": "markdown",
   "metadata": {
    "deletable": false,
    "editable": false,
    "nbgrader": {
     "cell_type": "markdown",
     "checksum": "3a7a548acf5ca1d92ee01b826fabf5fd",
     "grade": false,
     "grade_id": "cell-9afcf3de52856de8",
     "locked": true,
     "schema_version": 3,
     "solution": false,
     "task": false
    }
   },
   "source": [
    "Create two lists *nodes* and *edges* and one NumPy array *weights*. The list *nodes* should contain all names of the nodes in the graph of Coursework 1, Question 1, in alphabetical order. The list edges should include lists that contain the indices of the nodes that are connected by the individual edge. For example, the first edge connects node 'Batman' and node 'Jessica Jones', so the list for this edge should be [0, 3], as 'Batman' is the first entry of the list *nodes* and 'Jessica Jones' is the fourth entry.  The Numpy array *weights* should contain the individual weights assigned to each edge."
   ]
  },
  {
   "cell_type": "code",
   "execution_count": 10,
   "metadata": {
    "deletable": false,
    "nbgrader": {
     "cell_type": "code",
     "checksum": "279b569bc146e4d543140c55c41b816a",
     "grade": false,
     "grade_id": "cell-1b50dfad57619207",
     "locked": false,
     "schema_version": 3,
     "solution": true,
     "task": false
    }
   },
   "outputs": [],
   "source": [
    "# YOUR CODE HERE\n",
    "nodes = ['Batman', 'Catwoman', 'Deadpool', 'Jessica Jones', 'Spiderman', 'Wonder woman']\n",
    "edges = [[0,3], [0,1], [0,2], [0,5], [2,3], [3,5], [3,4], [1,5], [1,4], [2,4], [4,5]]\n",
    "weights = np.array([4, 81, 16, 64, 64, 36, 49, 49, 1, 49, 1])"
   ]
  },
  {
   "cell_type": "markdown",
   "metadata": {
    "deletable": false,
    "editable": false,
    "nbgrader": {
     "cell_type": "markdown",
     "checksum": "94b7446ddc63ee77a162945f024bc5a6",
     "grade": false,
     "grade_id": "cell-57a87e1109f5c25b",
     "locked": true,
     "schema_version": 3,
     "solution": false,
     "task": false
    }
   },
   "source": [
    "Display your lists and array with the following cell."
   ]
  },
  {
   "cell_type": "code",
   "execution_count": 11,
   "metadata": {
    "deletable": false,
    "editable": false,
    "nbgrader": {
     "cell_type": "code",
     "checksum": "45ec9b84098127fb4212ea7866919eb2",
     "grade": true,
     "grade_id": "cell-7aaa793b98db93ce",
     "locked": true,
     "points": 3,
     "schema_version": 3,
     "solution": false,
     "task": false
    }
   },
   "outputs": [
    {
     "name": "stdout",
     "output_type": "stream",
     "text": [
      "We consider a graph with nodes/vertices ['Batman', 'Catwoman', 'Deadpool', 'Jessica Jones', 'Spiderman', 'Wonder woman'], edges [[0, 3], [0, 1], [0, 2], [0, 5], [2, 3], [3, 5], [3, 4], [1, 5], [1, 4], [2, 4], [4, 5]] and weights [ 4 81 16 64 64 36 49 49  1 49  1].\n"
     ]
    }
   ],
   "source": [
    "print('We consider a graph with nodes/vertices {n}, edges {e} and weights {w}.'.format( \\\n",
    "                            n = nodes, e = edges, w = weights))"
   ]
  },
  {
   "cell_type": "markdown",
   "metadata": {
    "deletable": false,
    "editable": false,
    "nbgrader": {
     "cell_type": "markdown",
     "checksum": "71df8fb44e2cdf3959d98b7992d7f132",
     "grade": false,
     "grade_id": "cell-bb7f5dfd0d423bb8",
     "locked": true,
     "schema_version": 3,
     "solution": false,
     "task": false
    }
   },
   "source": [
    "Write a function **construct_incidence_matrix** that takes the lists *nodes*, *edges* and the NumPy array *weights* as arguments. The function should return the incidence matrix *incidence_matrix* that corresponds to the weighted graph. The construction of the incidence matrix is described in the lecture notes."
   ]
  },
  {
   "cell_type": "code",
   "execution_count": 12,
   "metadata": {
    "deletable": false,
    "nbgrader": {
     "cell_type": "code",
     "checksum": "e0238dcae9cf053464d4116769aecbc6",
     "grade": false,
     "grade_id": "cell-87385a31ebe6ae36",
     "locked": false,
     "schema_version": 3,
     "solution": true,
     "task": false
    }
   },
   "outputs": [],
   "source": [
    "def construct_incidence_matrix(nodes, edges, weights):\n",
    "    # YOUR CODE HERE\n",
    "    matrix = np.zeros(shape=(len(edges),len(nodes)))\n",
    "    for i, row in enumerate(matrix):\n",
    "        row[edges[i][0]] = - (weights[i])**0.5\n",
    "        row[edges[i][1]] = (weights[i])**0.5\n",
    "    return matrix"
   ]
  },
  {
   "cell_type": "markdown",
   "metadata": {
    "deletable": false,
    "editable": false,
    "nbgrader": {
     "cell_type": "markdown",
     "checksum": "c53b0a2ca6bfc7484eed3c411f701ef4",
     "grade": false,
     "grade_id": "cell-1f3ff816ea2158a9",
     "locked": true,
     "schema_version": 3,
     "solution": false,
     "task": false
    }
   },
   "source": [
    "You can test your function with the following cell."
   ]
  },
  {
   "cell_type": "code",
   "execution_count": 14,
   "metadata": {
    "deletable": false,
    "editable": false,
    "nbgrader": {
     "cell_type": "code",
     "checksum": "44df416566e9d88119459631994ba6de",
     "grade": true,
     "grade_id": "cell-81c3933d937a234f",
     "locked": true,
     "points": 4,
     "schema_version": 3,
     "solution": false,
     "task": false
    }
   },
   "outputs": [
    {
     "name": "stdout",
     "output_type": "stream",
     "text": [
      "The incidence matrix of our graph is \n",
      " [[-2  0  0  2  0  0]\n",
      " [-9  9  0  0  0  0]\n",
      " [-4  0  4  0  0  0]\n",
      " [-8  0  0  0  0  8]\n",
      " [ 0  0 -8  8  0  0]\n",
      " [ 0  0  0 -6  0  6]\n",
      " [ 0  0  0 -7  7  0]\n",
      " [ 0 -7  0  0  0  7]\n",
      " [ 0 -1  0  0  1  0]\n",
      " [ 0  0 -7  0  7  0]\n",
      " [ 0  0  0  0 -1  1]].\n"
     ]
    }
   ],
   "source": [
    "from numpy.testing import assert_array_equal\n",
    "incidence_matrix = construct_incidence_matrix(nodes, edges, weights)    \n",
    "print('The incidence matrix of our graph is \\n {i}.'.format(i = incidence_matrix.astype(int)))\n",
    "\n",
    "# The following code is testing the previous code against a specific example    \n",
    "test_nodes = ['Batman', 'Catwoman', 'Spiderman']\n",
    "test_edges = [[0, 1], [1, 2]]\n",
    "test_weights = np.array([81, 1])\n",
    "test_incidence_matrix = construct_incidence_matrix(test_nodes, test_edges, test_weights)\n",
    "\n",
    "assert_array_equal(test_incidence_matrix.astype(int), np.array([[-9, 9, 0],[0, -1, 1]]))\n"
   ]
  },
  {
   "cell_type": "markdown",
   "metadata": {
    "deletable": false,
    "editable": false,
    "nbgrader": {
     "cell_type": "markdown",
     "checksum": "7dad2335ae5bcc49aa852586745297f5",
     "grade": false,
     "grade_id": "cell-41f51bb7dae6a31f",
     "locked": true,
     "schema_version": 3,
     "solution": false,
     "task": false
    }
   },
   "source": [
    "Next, compute the corresponding graph-Laplacian for the incidence matrix *incidence_matrix* from the previous exercise and store it in a variable named *graph_laplacian*. Follow the definition from the lecture notes."
   ]
  },
  {
   "cell_type": "code",
   "execution_count": 15,
   "metadata": {
    "deletable": false,
    "nbgrader": {
     "cell_type": "code",
     "checksum": "21755addcb028f3ae6aa3c4719a4523b",
     "grade": false,
     "grade_id": "cell-bbe113db448d0f54",
     "locked": false,
     "schema_version": 3,
     "solution": true,
     "task": false
    }
   },
   "outputs": [],
   "source": [
    "# YOUR CODE HERE\n",
    "graph_laplacian = incidence_matrix.T @ incidence_matrix"
   ]
  },
  {
   "cell_type": "markdown",
   "metadata": {
    "deletable": false,
    "editable": false,
    "nbgrader": {
     "cell_type": "markdown",
     "checksum": "dda7b80daf39abb9cda98c6eb380effc",
     "grade": false,
     "grade_id": "cell-2cc1f7786a33222a",
     "locked": true,
     "schema_version": 3,
     "solution": false,
     "task": false
    }
   },
   "source": [
    "You can test your function with the following cell."
   ]
  },
  {
   "cell_type": "code",
   "execution_count": 16,
   "metadata": {
    "deletable": false,
    "editable": false,
    "nbgrader": {
     "cell_type": "code",
     "checksum": "121d93781c0270ffa22da4a11ee7dee5",
     "grade": true,
     "grade_id": "cell-e14e6d8159b7b419",
     "locked": true,
     "points": 3,
     "schema_version": 3,
     "solution": false,
     "task": false
    }
   },
   "outputs": [
    {
     "name": "stdout",
     "output_type": "stream",
     "text": [
      "The graph Laplacian of our graph is \n",
      " [[165 -81 -16  -4   0 -64]\n",
      " [-81 131   0   0  -1 -49]\n",
      " [-16   0 129 -64 -49   0]\n",
      " [ -4   0 -64 153 -49 -36]\n",
      " [  0  -1 -49 -49 100  -1]\n",
      " [-64 -49   0 -36  -1 150]].\n"
     ]
    }
   ],
   "source": [
    "print('The graph Laplacian of our graph is \\n {g}.'.format(g = graph_laplacian.astype(int)))"
   ]
  },
  {
   "cell_type": "markdown",
   "metadata": {
    "deletable": false,
    "editable": false,
    "nbgrader": {
     "cell_type": "markdown",
     "checksum": "dce753c52dc82de78b76c4f59c7319b4",
     "grade": false,
     "grade_id": "cell-765dfcf3144be575",
     "locked": true,
     "schema_version": 3,
     "solution": false,
     "task": false
    }
   },
   "source": [
    "We want to use our graph to determine whether a node in the graph belongs to the class \"Marvel\" or the class \"DC\". Suppose we are in a semi-supervised setting, where the node \"Deadpool\" is already labelled $v_{\\text{Deadpool}} = 0$ (class \"Marvel\") and the node \"Catwoman\" is labelled as $v_{\\text{Catwoman}} = 1$ (class \"DC\"). Here $v$ is the mathematical notation of the label vector. We follow the instructions in the lecture notes and formulate this as a linear system. We can either define appropriate projection matrices or create sub-matrices from the graph-Laplacian by choosing the correct indices. How you set up the linear system is up to you. Store your linear system in a variable named *linear_system* and the right-hand-side in a variable *right_hand_side*."
   ]
  },
  {
   "cell_type": "code",
   "execution_count": 17,
   "metadata": {
    "deletable": false,
    "nbgrader": {
     "cell_type": "code",
     "checksum": "eb570357bdd253139c292cfb266f5673",
     "grade": false,
     "grade_id": "cell-20979238f798da95",
     "locked": false,
     "schema_version": 3,
     "solution": true,
     "task": false
    }
   },
   "outputs": [],
   "source": [
    "# YOUR CODE HERE\n",
    "labeled = [1,2]\n",
    "unlabeled = [0,3,4,5]\n",
    "y = np.array([1,0]).reshape(2,1)\n",
    "for i, row in enumerate(graph_laplacian[unlabeled]):\n",
    "    if i == 0:\n",
    "        linear_system = row[unlabeled]\n",
    "        right_hand_side = row[labeled]\n",
    "    else:\n",
    "        linear_system = np.vstack((linear_system, row[unlabeled]))\n",
    "        right_hand_side = np.vstack((right_hand_side, row[labeled]))"
   ]
  },
  {
   "cell_type": "markdown",
   "metadata": {
    "deletable": false,
    "editable": false,
    "nbgrader": {
     "cell_type": "markdown",
     "checksum": "c59a71c1d8776410ade2e99e224fe900",
     "grade": false,
     "grade_id": "cell-3bccf75331c0be63",
     "locked": true,
     "schema_version": 3,
     "solution": false,
     "task": false
    }
   },
   "source": [
    "Solve your linear system and store your labels in an array named *remaining_labels*. Create also an array *all_labels* that contains all labels, as well as a boolean array *thresholded_labels* of the same size as *all_labels* with True or False values. An entry should be true if the corresponding entry in *all_labels* is larger than 0.5 and false otherwise."
   ]
  },
  {
   "cell_type": "code",
   "execution_count": 22,
   "metadata": {
    "deletable": false,
    "nbgrader": {
     "cell_type": "code",
     "checksum": "04625c2e10c434a2707fe5b7c106d707",
     "grade": false,
     "grade_id": "cell-ae555d965960f117",
     "locked": false,
     "schema_version": 3,
     "solution": true,
     "task": false
    }
   },
   "outputs": [
    {
     "name": "stdout",
     "output_type": "stream",
     "text": [
      "[[ True]\n",
      " [ True]\n",
      " [False]\n",
      " [False]\n",
      " [False]\n",
      " [ True]]\n"
     ]
    }
   ],
   "source": [
    "# YOUR CODE HERE\n",
    "A = linear_system\n",
    "b = right_hand_side@y\n",
    "\n",
    "remaining_labels = np.absolute(np.linalg.solve(A, b)) # f_tilda\n",
    "all_labels = np.vstack((remaining_labels[0],y))\n",
    "all_labels = np.vstack((all_labels,remaining_labels[1:]))\n",
    "thresholded_labels = np.round(all_labels,0).astype(bool)\n",
    "print(thresholded_labels)"
   ]
  },
  {
   "cell_type": "markdown",
   "metadata": {
    "deletable": false,
    "editable": false,
    "nbgrader": {
     "cell_type": "markdown",
     "checksum": "7e80f2c695770abe2fb745e3a757ef08",
     "grade": false,
     "grade_id": "cell-eee18e5a8cb866a0",
     "locked": true,
     "schema_version": 3,
     "solution": false,
     "task": false
    }
   },
   "source": [
    "Check your results with the following cell."
   ]
  },
  {
   "cell_type": "code",
   "execution_count": 23,
   "metadata": {
    "deletable": false,
    "editable": false,
    "nbgrader": {
     "cell_type": "code",
     "checksum": "409f16e55ba9adba16202db7a365c6bb",
     "grade": false,
     "grade_id": "cell-60b0665f44561963",
     "locked": true,
     "schema_version": 3,
     "solution": false,
     "task": false
    }
   },
   "outputs": [
    {
     "name": "stdout",
     "output_type": "stream",
     "text": [
      "The computed labels are [[0.77273292]\n",
      " [1.        ]\n",
      " [0.        ]\n",
      " [0.22924953]\n",
      " [0.12945476]\n",
      " [0.71224896]]. Setting all values above 0.5 to one and the remaining ones to zero yields [[1]\n",
      " [1]\n",
      " [0]\n",
      " [0]\n",
      " [0]\n",
      " [1]].\n"
     ]
    }
   ],
   "source": [
    "print('The computed labels are {a}. Setting all values above 0.5 to one and'.format( \\\n",
    "        a = all_labels), 'the remaining ones to zero yields {t}.'.format(t = \\\n",
    "        thresholded_labels.astype(int)))"
   ]
  },
  {
   "cell_type": "markdown",
   "metadata": {
    "deletable": false,
    "editable": false,
    "nbgrader": {
     "cell_type": "markdown",
     "checksum": "9c4d6cf32f1cb47257c9f5294052ad07",
     "grade": false,
     "grade_id": "cell-7af5c71fb438ac6d",
     "locked": true,
     "schema_version": 3,
     "solution": false,
     "task": false
    }
   },
   "source": [
    "We conclude this coursework by computing the second eigenvector, i.e. the eigenvector that corresponds to the second smallest eigenvalue, of the graph-Laplacian *graph_laplacian*. Explore how to compute eigenvalues and eigenvectors, in particular of sparse matrices if you have used them."
   ]
  },
  {
   "cell_type": "code",
   "execution_count": 24,
   "metadata": {
    "deletable": false,
    "nbgrader": {
     "cell_type": "code",
     "checksum": "7a955ff75f408e98c81165e5bd913815",
     "grade": false,
     "grade_id": "cell-67ec5a28d4bc7ddc",
     "locked": false,
     "schema_version": 3,
     "solution": true,
     "task": false
    }
   },
   "outputs": [],
   "source": [
    "# YOUR CODE HERE\n",
    "eigenvalues, eigenvectors = np.linalg.eig(graph_laplacian)"
   ]
  },
  {
   "cell_type": "markdown",
   "metadata": {
    "deletable": false,
    "editable": false,
    "nbgrader": {
     "cell_type": "markdown",
     "checksum": "b07762014ba2079f52ded4751b7636b7",
     "grade": false,
     "grade_id": "cell-7dfcc8e6c5271d1f",
     "locked": true,
     "schema_version": 3,
     "solution": false,
     "task": false
    }
   },
   "source": [
    "Display the second smallest eigenvalue and the corresponding eigenvector. What do you observe?"
   ]
  },
  {
   "cell_type": "code",
   "execution_count": 25,
   "metadata": {
    "deletable": false,
    "editable": false,
    "nbgrader": {
     "cell_type": "code",
     "checksum": "ae735ccaa901ce622068c2c60b56dcdf",
     "grade": true,
     "grade_id": "cell-fd9c7426dfff76d8",
     "locked": true,
     "points": 0,
     "schema_version": 3,
     "solution": false,
     "task": false
    }
   },
   "outputs": [
    {
     "name": "stdout",
     "output_type": "stream",
     "text": [
      "The second smallest eigenvalue of the graph Laplacian is 33.16375166078198. The corresponding eigenvector is [ 0.39722732  0.48514106 -0.39542065 -0.30661694 -0.50260786  0.32227706].T.\n"
     ]
    }
   ],
   "source": [
    "print('The second smallest eigenvalue of the graph Laplacian is {eval}.'.format(eval = \\\n",
    "        eigenvalues[1].real), 'The corresponding eigenvector is {evec}.T.'.format(evec = \\\n",
    "        eigenvectors[:, 1].T.real))"
   ]
  }
 ],
 "metadata": {
  "celltoolbar": "Edit Metadata",
  "kernelspec": {
   "display_name": "Python 3 (ipykernel)",
   "language": "python",
   "name": "python3"
  },
  "language_info": {
   "codemirror_mode": {
    "name": "ipython",
    "version": 3
   },
   "file_extension": ".py",
   "mimetype": "text/x-python",
   "name": "python",
   "nbconvert_exporter": "python",
   "pygments_lexer": "ipython3",
   "version": "3.9.7"
  }
 },
 "nbformat": 4,
 "nbformat_minor": 4
}
