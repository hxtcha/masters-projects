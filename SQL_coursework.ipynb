{
 "cells": [
  {
   "cell_type": "markdown",
   "id": "687cdb84",
   "metadata": {},
   "source": [
    "Before you turn this problem in, make sure everything runs as expected. First, **restart the kernel** (in the menubar, select Kernel$\\rightarrow$Restart) and then **run all cells** (in the menubar, select Cell$\\rightarrow$Run All).\n",
    "\n",
    "Make sure you fill in any place that says `YOUR CODE HERE` or \"YOUR ANSWER HERE\", as well as your name and collaborators below:"
   ]
  },
  {
   "cell_type": "markdown",
   "id": "d9d1eb4c",
   "metadata": {},
   "source": [
    "---"
   ]
  },
  {
   "cell_type": "markdown",
   "id": "3e893889",
   "metadata": {
    "deletable": false,
    "editable": false,
    "nbgrader": {
     "cell_type": "markdown",
     "checksum": "babe91ff3d6e8a834afd441a59c36d13",
     "grade": false,
     "grade_id": "cell-7186ca423b60543c",
     "locked": true,
     "schema_version": 3,
     "solution": false,
     "task": false
    }
   },
   "source": [
    "MTH765P - Coursework 4 \n",
    "This is a template notebook for the last coursework assignment for MTH765P,\n",
    "Closely follow the instructions in this template in order \n",
    "to complete the assessment and to obtain full marks. Please only\n",
    "modify cells where you are instructed to do so. Failure to comply\n",
    "may result in unexpected errors that can lead to mark deductions.\n",
    "\n",
    "Author: Primoz Skraba\n",
    "\n",
    "\n",
    "As usual, we begin by loading the necessary libraries. You should not \n",
    "import any other libraries."
   ]
  },
  {
   "cell_type": "code",
   "execution_count": 2,
   "id": "6fcdc7a3",
   "metadata": {
    "deletable": false,
    "editable": false,
    "nbgrader": {
     "cell_type": "code",
     "checksum": "c38fd7e76446c4cc348e4735ed6ca79a",
     "grade": false,
     "grade_id": "cell-e0498cc6111d3a30",
     "locked": true,
     "schema_version": 3,
     "solution": false,
     "task": false
    }
   },
   "outputs": [],
   "source": [
    "import sqlite3 \n",
    "import pandas as pd\n",
    "import numpy as np"
   ]
  },
  {
   "cell_type": "markdown",
   "id": "5b456c4d",
   "metadata": {
    "deletable": false,
    "editable": false,
    "nbgrader": {
     "cell_type": "markdown",
     "checksum": "3e971e62d472ebcebc9c0e9ee80e96ab",
     "grade": false,
     "grade_id": "cell-3789e660386ae6ea",
     "locked": true,
     "schema_version": 3,
     "solution": false,
     "task": false
    }
   },
   "source": [
    "## Question 1 (30 points): \n",
    "\n",
    "-----------------------------------------\n",
    "\n",
    "\n",
    "a.)  **(10 points)** Create a sqlite database called **nanoim.db** with the following tables.\n",
    "- All numbers should be integers\n",
    "- IDs should be the primary key\n",
    "- All other entries should be of type TEXT\n",
    "\n",
    "Be sure to close the table once you have created it. \n",
    "\n",
    "<h1><center>Movies</center></h1>\n",
    "\n",
    "|MovieID  | Movie |Actor |Director|\n",
    "|  :--:|  :----: |  :----:| :----:|\n",
    "|1 | Idiocracy| 1 |4|\n",
    "|2 | Predator |2 |1|\n",
    "|3 | The Room |4  |2|\n",
    "|4 | Point Break  |3 | 3 |\n",
    "\n",
    "\n",
    "<h1><center>Actors</center></h1>\n",
    "\n",
    "|ActorID  | Name | Rank|\n",
    "|  :--:|  :----: |  :----:|\n",
    "|1 |Terry Crews|3|\n",
    "|2 | Arnold Schwarzenegger |2|\n",
    "|3 |Keanu Reeves | 1 |\n",
    "|4 |Tommy Wiseau |4|\n",
    "\n",
    "\n",
    "<h1><center>Directors </center></h1>\n",
    "\n",
    "|DirectorID  | Name |\n",
    "|  :--:|  :----: | \n",
    "|1 |John McTiernan| \n",
    "|2 |Tommy Wiseau|\n",
    "|3 |Kathryn Bigelow |\n",
    "|4 |Mike Judge|\n",
    "\n",
    "\n",
    "\n"
   ]
  },
  {
   "cell_type": "code",
   "execution_count": 3,
   "id": "c788644c",
   "metadata": {
    "deletable": false,
    "nbgrader": {
     "cell_type": "code",
     "checksum": "34f7aff5d882e22b5e3c5320a0a2cd1a",
     "grade": false,
     "grade_id": "cell-bc359bcd41563bd4",
     "locked": false,
     "schema_version": 3,
     "solution": true,
     "task": false
    }
   },
   "outputs": [],
   "source": [
    "conn=sqlite3.connect('nanoim.db')"
   ]
  },
  {
   "cell_type": "code",
   "execution_count": 4,
   "id": "c1ee8fd2",
   "metadata": {
    "scrolled": true
   },
   "outputs": [],
   "source": [
    "# Create cursor object\n",
    "cursorObject = conn.cursor()\n",
    "\n",
    "# Create the three tables\n",
    "cursorObject.execute(\"\"\"CREATE TABLE Movies(MovieID integer PRIMARY KEY, Movie text, Actor int, Director int)\"\"\")\n",
    "cursorObject.execute(\"\"\"CREATE TABLE Actors(ActorID integer PRIMARY KEY, Name text, Rank int)\"\"\")\n",
    "cursorObject.execute(\"\"\"CREATE TABLE Directors(DirectorID integer PRIMARY KEY, Name text)\"\"\")\n",
    "\n",
    "# Insert values into Movies\n",
    "cursorObject.execute(\"\"\"INSERT INTO Movies VALUES(1, 'Idiocracy', 1, 4)\"\"\")\n",
    "cursorObject.execute(\"\"\"INSERT INTO Movies VALUES(2, 'Predator', 2, 1)\"\"\")\n",
    "cursorObject.execute(\"\"\"INSERT INTO Movies VALUES(3, 'The Room', 4, 2)\"\"\")\n",
    "cursorObject.execute(\"\"\"INSERT INTO Movies VALUES(4, 'Point Break', 3, 3)\"\"\")\n",
    "\n",
    "# Insert values into Actors\n",
    "cursorObject.execute(\"\"\"INSERT INTO Actors VALUES(1, 'Terry Crews', 3)\"\"\")\n",
    "cursorObject.execute(\"\"\"INSERT INTO Actors VALUES(2, 'Arnold Schwarzenegger', 2)\"\"\")\n",
    "cursorObject.execute(\"\"\"INSERT INTO Actors VALUES(3, 'Keanu Reeves', 1)\"\"\")\n",
    "cursorObject.execute(\"\"\"INSERT INTO Actors VALUES(4, 'Tommy Wiseau', 4)\"\"\")\n",
    "\n",
    "# Insert values into Directors\n",
    "cursorObject.execute(\"\"\"INSERT INTO Directors VALUES(1, 'John McTiernan')\"\"\")\n",
    "cursorObject.execute(\"\"\"INSERT INTO Directors VALUES(2, 'Tommy Wiseau')\"\"\")\n",
    "cursorObject.execute(\"\"\"INSERT INTO Directors VALUES(3, 'Kathryn Bigelow')\"\"\")\n",
    "cursorObject.execute(\"\"\"INSERT INTO Directors VALUES(4, 'Mike Judge')\"\"\")\n",
    "\n",
    "# Commit the changes\n",
    "conn.commit()\n",
    "\n",
    "# Close the connection\n",
    "conn.close()"
   ]
  },
  {
   "cell_type": "code",
   "execution_count": null,
   "id": "8d6dd2fc",
   "metadata": {
    "deletable": false,
    "editable": false,
    "nbgrader": {
     "cell_type": "code",
     "checksum": "27828b5106992dd66af292fbbc6091ad",
     "grade": true,
     "grade_id": "cell-f4c687095074f32a",
     "locked": true,
     "points": 12,
     "schema_version": 3,
     "solution": false,
     "task": false
    }
   },
   "outputs": [],
   "source": []
  },
  {
   "cell_type": "markdown",
   "id": "c569f38a",
   "metadata": {
    "deletable": false,
    "editable": false,
    "nbgrader": {
     "cell_type": "markdown",
     "checksum": "a6c9984b4ded5f401ff7d8384402461f",
     "grade": false,
     "grade_id": "cell-89c1238704719e7d",
     "locked": true,
     "schema_version": 3,
     "solution": false,
     "task": false
    }
   },
   "source": [
    "----------------\n",
    "----------------\n",
    "\n",
    "b) (2 Point) Reconnect with **nanoim.db** in a connection named _conn_\n",
    "\n",
    "----------------"
   ]
  },
  {
   "cell_type": "code",
   "execution_count": 5,
   "id": "b17efd7e",
   "metadata": {
    "deletable": false,
    "nbgrader": {
     "cell_type": "code",
     "checksum": "1413a1fa8ebd3e0be3cc7b19c85735f0",
     "grade": false,
     "grade_id": "cell-0e83b7a5e4b6f4b3",
     "locked": false,
     "schema_version": 3,
     "solution": true,
     "task": false
    }
   },
   "outputs": [],
   "source": [
    "conn=sqlite3.connect('nanoim.db')"
   ]
  },
  {
   "cell_type": "code",
   "execution_count": null,
   "id": "85974e8b",
   "metadata": {
    "deletable": false,
    "editable": false,
    "nbgrader": {
     "cell_type": "code",
     "checksum": "75ea22737b0fc4941386b926e1de3ccd",
     "grade": true,
     "grade_id": "cell-64c8e3763986c6ff",
     "locked": true,
     "points": 3,
     "schema_version": 3,
     "solution": false,
     "task": false
    }
   },
   "outputs": [],
   "source": []
  },
  {
   "cell_type": "markdown",
   "id": "2f92fb5d",
   "metadata": {
    "deletable": false,
    "editable": false,
    "nbgrader": {
     "cell_type": "markdown",
     "checksum": "7f9895939d351801256cd18481eae0c7",
     "grade": false,
     "grade_id": "cell-a1fdcd3fb52af73b",
     "locked": true,
     "schema_version": 3,
     "solution": false,
     "task": false
    }
   },
   "source": [
    "For the rest of this question you will construct SQL queries and run them.\n",
    "- Make sure to store the result in the variable name given\n",
    "- Make queries so that they would work if the tables are expanded or updated. \n",
    "- Use only sqlite3 functions "
   ]
  },
  {
   "cell_type": "markdown",
   "id": "88152613",
   "metadata": {
    "deletable": false,
    "editable": false,
    "nbgrader": {
     "cell_type": "markdown",
     "checksum": "9ca09f2aec4c5aa3c2f9531179f7ccab",
     "grade": false,
     "grade_id": "cell-13158495b4a99e7f",
     "locked": true,
     "schema_version": 3,
     "solution": false,
     "task": false
    }
   },
   "source": [
    "---------\n",
    "---------\n",
    "\n",
    "c.) **(5 Points)** Create a following query to return names of the actors who are ranked 3rd or higher (**The highest rank is 1**). Store the result in a variable called _actors_\n",
    "\n",
    "---------"
   ]
  },
  {
   "cell_type": "code",
   "execution_count": 6,
   "id": "c8e92255",
   "metadata": {
    "deletable": false,
    "nbgrader": {
     "cell_type": "code",
     "checksum": "2e5cadbda69ab8ae47d1dcf035fef538",
     "grade": false,
     "grade_id": "cell-9702431e37dc0ea6",
     "locked": false,
     "schema_version": 3,
     "solution": true,
     "task": false
    }
   },
   "outputs": [
    {
     "name": "stdout",
     "output_type": "stream",
     "text": [
      "[('Terry Crews',), ('Arnold Schwarzenegger',), ('Keanu Reeves',)]\n"
     ]
    }
   ],
   "source": [
    "cursorObject = conn.cursor()\n",
    "actors = cursorObject.execute('''SELECT Name FROM Actors WHERE rank<=3''',).fetchall()\n",
    "print(actors)"
   ]
  },
  {
   "cell_type": "code",
   "execution_count": null,
   "id": "2925d5c6",
   "metadata": {
    "deletable": false,
    "editable": false,
    "nbgrader": {
     "cell_type": "code",
     "checksum": "46cc178430a71d9e0cb1b96eccac96ef",
     "grade": true,
     "grade_id": "cell-80a9a838039df5dd",
     "locked": true,
     "points": 3,
     "schema_version": 3,
     "solution": false,
     "task": false
    }
   },
   "outputs": [],
   "source": []
  },
  {
   "cell_type": "markdown",
   "id": "1d84c08a",
   "metadata": {
    "deletable": false,
    "editable": false,
    "nbgrader": {
     "cell_type": "markdown",
     "checksum": "99fa7a89a43cdc0c30dbd938c944c5e9",
     "grade": false,
     "grade_id": "cell-6597e941e04eb8c3",
     "locked": true,
     "schema_version": 3,
     "solution": false,
     "task": false
    }
   },
   "source": [
    "---------\n",
    "---------\n",
    "\n",
    "d.) **(6 Points)** Create a following query to return the name of movies starring Keanu Reeves. Store the result in a variable called _keanu_\n",
    "\n",
    "---------"
   ]
  },
  {
   "cell_type": "code",
   "execution_count": 7,
   "id": "79c2a3f5",
   "metadata": {
    "deletable": false,
    "nbgrader": {
     "cell_type": "code",
     "checksum": "7687576eea21d89bddfcaeafe9f61f03",
     "grade": false,
     "grade_id": "cell-4aaf6d7e34c05102",
     "locked": false,
     "schema_version": 3,
     "solution": true,
     "task": false
    }
   },
   "outputs": [
    {
     "name": "stdout",
     "output_type": "stream",
     "text": [
      "[('Point Break',)]\n"
     ]
    }
   ],
   "source": [
    "cursorObject = conn.cursor()\n",
    "keanu = cursorObject.execute('''SELECT Movie FROM Movies \n",
    "                                 INNER JOIN Actors ON Actors.ActorID=Movies.Actor\n",
    "                                 WHERE Name ='Keanu Reeves' ''',).fetchall()\n",
    "print(keanu)"
   ]
  },
  {
   "cell_type": "code",
   "execution_count": null,
   "id": "398613d5",
   "metadata": {
    "deletable": false,
    "editable": false,
    "nbgrader": {
     "cell_type": "code",
     "checksum": "1c58dfc6edeeaea6ad2321d2262fb656",
     "grade": true,
     "grade_id": "cell-8032f92b9dc27c72",
     "locked": true,
     "points": 3,
     "schema_version": 3,
     "solution": false,
     "task": false
    }
   },
   "outputs": [],
   "source": []
  },
  {
   "cell_type": "markdown",
   "id": "30daa2e1",
   "metadata": {
    "deletable": false,
    "editable": false,
    "nbgrader": {
     "cell_type": "markdown",
     "checksum": "c0d4c1845574444af280e95c5a37beb3",
     "grade": false,
     "grade_id": "cell-c4c61cf63b35dc1d",
     "locked": true,
     "schema_version": 3,
     "solution": false,
     "task": false
    }
   },
   "source": [
    "---------\n",
    "---------\n",
    "\n",
    "e.) **(6 Points)** Create a following query to return the directors of movies starring Tommy Wiseau. Store the result in a variable called _tommy_\n",
    "\n",
    "---------"
   ]
  },
  {
   "cell_type": "code",
   "execution_count": 8,
   "id": "a99f616e",
   "metadata": {
    "deletable": false,
    "nbgrader": {
     "cell_type": "code",
     "checksum": "afd4b16f39ebb120834f61fbc492fd57",
     "grade": false,
     "grade_id": "cell-6ca78cd6e7cc68e5",
     "locked": false,
     "schema_version": 3,
     "solution": true,
     "task": false
    }
   },
   "outputs": [
    {
     "name": "stdout",
     "output_type": "stream",
     "text": [
      "[('Tommy Wiseau',)]\n"
     ]
    }
   ],
   "source": [
    "cursorObject = conn.cursor()\n",
    "tommy = cursorObject.execute('''SELECT Name FROM Directors \n",
    "                                 INNER JOIN Movies ON Movies.Director=Directors.DirectorID\n",
    "                                 WHERE Actor IN\n",
    "                                 (SELECT ActorID FROM Actors\n",
    "                                 WHERE Name = 'Tommy Wiseau')''',).fetchall()\n",
    "print(tommy)"
   ]
  },
  {
   "cell_type": "code",
   "execution_count": null,
   "id": "b96ee5ea",
   "metadata": {
    "deletable": false,
    "editable": false,
    "nbgrader": {
     "cell_type": "code",
     "checksum": "87e6528f8b1be2a7c027dc9ae819bd95",
     "grade": true,
     "grade_id": "cell-6227290662d546cc",
     "locked": true,
     "points": 3,
     "schema_version": 3,
     "solution": false,
     "task": false
    }
   },
   "outputs": [],
   "source": []
  },
  {
   "cell_type": "markdown",
   "id": "9cc29647",
   "metadata": {
    "deletable": false,
    "editable": false,
    "nbgrader": {
     "cell_type": "markdown",
     "checksum": "805a55c1aef484cc5d8d1ab381c37205",
     "grade": false,
     "grade_id": "cell-5e33e47f87d09f21",
     "locked": true,
     "schema_version": 3,
     "solution": false,
     "task": false
    }
   },
   "source": [
    "----------\n",
    "----------\n",
    "f) **(1 Point)** Close the connection.\n",
    "\n",
    "----------"
   ]
  },
  {
   "cell_type": "code",
   "execution_count": 9,
   "id": "9783e642",
   "metadata": {
    "deletable": false,
    "nbgrader": {
     "cell_type": "code",
     "checksum": "a3f4f35072df47f7c0e9c70c91ef8009",
     "grade": false,
     "grade_id": "cell-b69d938db7aa93b2",
     "locked": false,
     "schema_version": 3,
     "solution": true,
     "task": false
    }
   },
   "outputs": [],
   "source": [
    "conn.close()"
   ]
  },
  {
   "cell_type": "code",
   "execution_count": null,
   "id": "7b2a17b7",
   "metadata": {
    "deletable": false,
    "editable": false,
    "nbgrader": {
     "cell_type": "code",
     "checksum": "73c28d160d58a78c7097e406c3995e6a",
     "grade": true,
     "grade_id": "cell-5c19e0eb26c3b078",
     "locked": true,
     "points": 1,
     "schema_version": 3,
     "solution": false,
     "task": false
    }
   },
   "outputs": [],
   "source": []
  },
  {
   "cell_type": "markdown",
   "id": "731fde5f",
   "metadata": {},
   "source": [
    "## Question 2 (30 Points)\n",
    "------------\n",
    "\n",
    "We will connect to the database given in the file **music.db**. This database has quite a large\n",
    "number of tables. We will deal with the following tables which have the following\n",
    "columns.\n",
    "- album: album id, title, artist id\n",
    "- artist: artist id, name\n",
    "- genre: genre id, name\n",
    "- track: track id, name, album id, media type id, genre id, composer, milliseconds, bytes, unit price"
   ]
  },
  {
   "cell_type": "code",
   "execution_count": 22,
   "id": "60bdc5e9",
   "metadata": {
    "deletable": false,
    "editable": false,
    "nbgrader": {
     "cell_type": "code",
     "checksum": "ed5cc5cac1e76f52123e3a9e0d390e43",
     "grade": false,
     "grade_id": "cell-5871a329f307ceae",
     "locked": true,
     "schema_version": 3,
     "solution": false,
     "task": false
    }
   },
   "outputs": [],
   "source": [
    "m_conn = sqlite3.connect('music.db')"
   ]
  },
  {
   "cell_type": "markdown",
   "id": "d6cda008",
   "metadata": {
    "deletable": false,
    "editable": false,
    "nbgrader": {
     "cell_type": "markdown",
     "checksum": "c2a6f62220db55daa76cc7580b5d4e08",
     "grade": false,
     "grade_id": "cell-55651df6e8f7b7e4",
     "locked": true,
     "schema_version": 3,
     "solution": false,
     "task": false
    }
   },
   "source": [
    "--------------\n",
    "--------------\n",
    "a.) **(6 points)** Construct a query which lists the  albums  Red Hot Chili Peppers have in the database and put it into variable called _rhcp_\n",
    "\n",
    "--------------"
   ]
  },
  {
   "cell_type": "code",
   "execution_count": 23,
   "id": "8dbefca7",
   "metadata": {
    "deletable": false,
    "nbgrader": {
     "cell_type": "code",
     "checksum": "96910b07b7ed8b62fea4d43e027ca28f",
     "grade": false,
     "grade_id": "cell-f5165ba583e168f9",
     "locked": false,
     "schema_version": 3,
     "solution": true,
     "task": false
    }
   },
   "outputs": [
    {
     "name": "stdout",
     "output_type": "stream",
     "text": [
      "[('Blood Sugar Sex Magik',), ('By The Way',), ('Californication',)]\n"
     ]
    }
   ],
   "source": [
    "cursorObject = m_conn.cursor()\n",
    "rhcp = cursorObject.execute('''SELECT title FROM album \n",
    "                               INNER JOIN artist ON artist.artist_id=album.artist_id\n",
    "                               WHERE name ='Red Hot Chili Peppers' ''',).fetchall()\n",
    "print(rhcp)"
   ]
  },
  {
   "cell_type": "code",
   "execution_count": null,
   "id": "a8203c1b",
   "metadata": {
    "deletable": false,
    "editable": false,
    "nbgrader": {
     "cell_type": "code",
     "checksum": "21f76379875a76f5d284093a5529d5c5",
     "grade": true,
     "grade_id": "cell-4b6426817ca3b4e9",
     "locked": true,
     "points": 3,
     "schema_version": 3,
     "solution": false,
     "task": false
    }
   },
   "outputs": [],
   "source": []
  },
  {
   "cell_type": "markdown",
   "id": "b5273df8",
   "metadata": {
    "deletable": false,
    "editable": false,
    "nbgrader": {
     "cell_type": "markdown",
     "checksum": "1c2504adc827547bef5b6a8bd2e8b765",
     "grade": false,
     "grade_id": "cell-987bc1d01340e999",
     "locked": true,
     "schema_version": 3,
     "solution": false,
     "task": false
    }
   },
   "source": [
    "--------------\n",
    "--------------\n",
    "b.) **(6 points)** Construct a query which lists  all the tracks on the album Achtung Baby and store the result in a variable called _u2_\n",
    "\n",
    "--------------"
   ]
  },
  {
   "cell_type": "code",
   "execution_count": 24,
   "id": "e7249368",
   "metadata": {
    "deletable": false,
    "nbgrader": {
     "cell_type": "code",
     "checksum": "f3b8e4ad17c73e10891195da50061dbb",
     "grade": false,
     "grade_id": "cell-f647d1adcb7ea752",
     "locked": false,
     "schema_version": 3,
     "solution": true,
     "task": false
    }
   },
   "outputs": [
    {
     "name": "stdout",
     "output_type": "stream",
     "text": [
      "[('Zoo Station',), ('Even Better Than The Real Thing',), ('One',), ('Until The End Of The World',), (\"Who's Gonna Ride Your Wild Horses\",), ('So Cruel',), ('The Fly',), ('Mysterious Ways',), (\"Tryin' To Throw Your Arms Around The World\",), ('Ultraviolet (Light My Way)',), ('Acrobat',), ('Love Is Blindness',)]\n"
     ]
    }
   ],
   "source": [
    "cursorObject = m_conn.cursor()\n",
    "u2 = cursorObject.execute('''SELECT name FROM track \n",
    "                             INNER JOIN album ON album.album_id=track.album_id\n",
    "                             WHERE title ='Achtung Baby' ''',).fetchall()\n",
    "print(u2)"
   ]
  },
  {
   "cell_type": "code",
   "execution_count": null,
   "id": "df3dea8a",
   "metadata": {
    "deletable": false,
    "editable": false,
    "nbgrader": {
     "cell_type": "code",
     "checksum": "681f08679c9cc0763feb888a463beb3e",
     "grade": true,
     "grade_id": "cell-c9413acfca6e2c28",
     "locked": true,
     "points": 12,
     "schema_version": 3,
     "solution": false,
     "task": false
    }
   },
   "outputs": [],
   "source": []
  },
  {
   "cell_type": "markdown",
   "id": "9f843ba2",
   "metadata": {
    "deletable": false,
    "editable": false,
    "nbgrader": {
     "cell_type": "markdown",
     "checksum": "a0a6e0adf24668face54a9b6839a5fb3",
     "grade": false,
     "grade_id": "cell-d42f0ceed080fa98",
     "locked": true,
     "schema_version": 3,
     "solution": false,
     "task": false
    }
   },
   "source": [
    "--------------\n",
    "--------------\n",
    "\n",
    "c.) **(8 points)** Construct a query which returns how much it would cost to buy all Metallica songs to the nearest pound and store it in a variable called _rockon_\n",
    "- You should assume the track costs are in pounds\n",
    "\n",
    "---------------"
   ]
  },
  {
   "cell_type": "code",
   "execution_count": 25,
   "id": "7629a591",
   "metadata": {
    "deletable": false,
    "nbgrader": {
     "cell_type": "code",
     "checksum": "a653fdff20be7abe19d2dacbfcba9093",
     "grade": false,
     "grade_id": "cell-87e53aac9841a7cd",
     "locked": false,
     "schema_version": 3,
     "solution": true,
     "task": false
    }
   },
   "outputs": [
    {
     "name": "stdout",
     "output_type": "stream",
     "text": [
      "[(111.0,)]\n"
     ]
    }
   ],
   "source": [
    "cursorObject = m_conn.cursor()\n",
    "rockon = cursorObject.execute('''SELECT ROUND(SUM(unit_price),0) FROM track \n",
    "                                 INNER JOIN album ON album.album_id=track.album_id\n",
    "                                 WHERE artist_id IN\n",
    "                                 (SELECT artist_id FROM artist\n",
    "                                 WHERE name='Metallica')''',).fetchall()\n",
    "print(rockon)"
   ]
  },
  {
   "cell_type": "code",
   "execution_count": null,
   "id": "94db5ab9",
   "metadata": {
    "deletable": false,
    "editable": false,
    "nbgrader": {
     "cell_type": "code",
     "checksum": "90428f3b5514a42659ef9cd9f8858f7a",
     "grade": true,
     "grade_id": "cell-39d561dd07a1487e",
     "locked": true,
     "points": 8,
     "schema_version": 3,
     "solution": false,
     "task": false
    }
   },
   "outputs": [],
   "source": []
  },
  {
   "cell_type": "markdown",
   "id": "190166db",
   "metadata": {
    "deletable": false,
    "editable": false,
    "nbgrader": {
     "cell_type": "markdown",
     "checksum": "346d097d026dfe10ab97f925d570bfe5",
     "grade": false,
     "grade_id": "cell-957ef22d55b4aad1",
     "locked": true,
     "schema_version": 3,
     "solution": false,
     "task": false
    }
   },
   "source": [
    "--------------\n",
    "--------------\n",
    "\n",
    "d.) **(10 points)** Construct a query which returns the name and the length of the longest Rock song and transforms it in seconds (to the nearest second) and stores the name in a variable called _longsong_ and the length in a variable called _time_\n",
    "\n",
    "---------------"
   ]
  },
  {
   "cell_type": "code",
   "execution_count": 26,
   "id": "e111591f",
   "metadata": {
    "deletable": false,
    "nbgrader": {
     "cell_type": "code",
     "checksum": "185f1b0cb7a896908e0476e41d3166ea",
     "grade": false,
     "grade_id": "cell-22085a2262c1dea4",
     "locked": false,
     "schema_version": 3,
     "solution": true,
     "task": false
    }
   },
   "outputs": [
    {
     "name": "stdout",
     "output_type": "stream",
     "text": [
      "Dazed And Confused 1612.0\n"
     ]
    }
   ],
   "source": [
    "cursorObject = m_conn.cursor()\n",
    "longsong,time  = cursorObject.execute('''SELECT name, ROUND(milliseconds/1000.0,0) FROM track \n",
    "                                         WHERE milliseconds = (SELECT MAX(milliseconds) FROM track\n",
    "                                         INNER JOIN genre ON genre.genre_id=track.genre_id\n",
    "                                         WHERE genre.name='Rock')''',).fetchall()[0]\n",
    "\n",
    "print(longsong,time)"
   ]
  },
  {
   "cell_type": "code",
   "execution_count": null,
   "id": "a3810ad4",
   "metadata": {
    "deletable": false,
    "editable": false,
    "nbgrader": {
     "cell_type": "code",
     "checksum": "64f41d9752718e2bd9f188b5ffd3ad47",
     "grade": true,
     "grade_id": "cell-ad34c0ea525892b1",
     "locked": true,
     "points": 10,
     "schema_version": 3,
     "solution": false,
     "task": false
    }
   },
   "outputs": [],
   "source": []
  },
  {
   "cell_type": "code",
   "execution_count": 27,
   "id": "2b745049",
   "metadata": {
    "deletable": false,
    "editable": false,
    "nbgrader": {
     "cell_type": "code",
     "checksum": "bc0e029473a3df9bd47835142af70524",
     "grade": false,
     "grade_id": "cell-f02287a7cc716531",
     "locked": true,
     "schema_version": 3,
     "solution": false,
     "task": false
    }
   },
   "outputs": [],
   "source": [
    "m_conn.close()"
   ]
  },
  {
   "cell_type": "markdown",
   "id": "6102d5a5",
   "metadata": {
    "deletable": false,
    "editable": false,
    "nbgrader": {
     "cell_type": "markdown",
     "checksum": "c702342ff8bb0fb75eb9948612b73dfe",
     "grade": false,
     "grade_id": "cell-10fedeb3f006fffd",
     "locked": true,
     "schema_version": 3,
     "solution": false,
     "task": false
    }
   },
   "source": [
    "## Question 3 (30 Points)\n",
    "------------\n",
    "\n",
    "\n",
    "We will connect to the database given in the file **eateries.sqlite**. This database has health inspection violations for San Francisco stored in 3 tables\n",
    "- 'businesses'\n",
    "- 'inspections'\n",
    "- 'violations'\n",
    "\n",
    "The cell below will print out the columns of the tables as pandas dataframes so you can examine them and then construct the queries. Unless otherwise stated you must only use SQL to get full marks. "
   ]
  },
  {
   "cell_type": "code",
   "execution_count": 16,
   "id": "7066d5f9",
   "metadata": {
    "deletable": false,
    "editable": false,
    "nbgrader": {
     "cell_type": "code",
     "checksum": "69f64d69ccaa6c28eeda014d2f6f142e",
     "grade": false,
     "grade_id": "cell-1f1352e3d8d94392",
     "locked": true,
     "schema_version": 3,
     "solution": false,
     "task": false
    },
    "scrolled": false
   },
   "outputs": [
    {
     "name": "stdout",
     "output_type": "stream",
     "text": [
      "businesses\n"
     ]
    },
    {
     "data": {
      "text/html": [
       "<div>\n",
       "<style scoped>\n",
       "    .dataframe tbody tr th:only-of-type {\n",
       "        vertical-align: middle;\n",
       "    }\n",
       "\n",
       "    .dataframe tbody tr th {\n",
       "        vertical-align: top;\n",
       "    }\n",
       "\n",
       "    .dataframe thead th {\n",
       "        text-align: right;\n",
       "    }\n",
       "</style>\n",
       "<table border=\"1\" class=\"dataframe\">\n",
       "  <thead>\n",
       "    <tr style=\"text-align: right;\">\n",
       "      <th></th>\n",
       "      <th>cid</th>\n",
       "      <th>name</th>\n",
       "      <th>type</th>\n",
       "      <th>notnull</th>\n",
       "      <th>dflt_value</th>\n",
       "      <th>pk</th>\n",
       "    </tr>\n",
       "  </thead>\n",
       "  <tbody>\n",
       "    <tr>\n",
       "      <th>0</th>\n",
       "      <td>0</td>\n",
       "      <td>business_id</td>\n",
       "      <td>INTEGER</td>\n",
       "      <td>1</td>\n",
       "      <td>None</td>\n",
       "      <td>0</td>\n",
       "    </tr>\n",
       "    <tr>\n",
       "      <th>1</th>\n",
       "      <td>1</td>\n",
       "      <td>name</td>\n",
       "      <td>VARCHAR(64)</td>\n",
       "      <td>0</td>\n",
       "      <td>None</td>\n",
       "      <td>0</td>\n",
       "    </tr>\n",
       "    <tr>\n",
       "      <th>2</th>\n",
       "      <td>2</td>\n",
       "      <td>address</td>\n",
       "      <td>VARCHAR(50)</td>\n",
       "      <td>0</td>\n",
       "      <td>None</td>\n",
       "      <td>0</td>\n",
       "    </tr>\n",
       "    <tr>\n",
       "      <th>3</th>\n",
       "      <td>3</td>\n",
       "      <td>city</td>\n",
       "      <td>VARCHAR(23)</td>\n",
       "      <td>0</td>\n",
       "      <td>None</td>\n",
       "      <td>0</td>\n",
       "    </tr>\n",
       "    <tr>\n",
       "      <th>4</th>\n",
       "      <td>4</td>\n",
       "      <td>postal_code</td>\n",
       "      <td>VARCHAR(9)</td>\n",
       "      <td>0</td>\n",
       "      <td>None</td>\n",
       "      <td>0</td>\n",
       "    </tr>\n",
       "    <tr>\n",
       "      <th>5</th>\n",
       "      <td>5</td>\n",
       "      <td>latitude</td>\n",
       "      <td>FLOAT</td>\n",
       "      <td>0</td>\n",
       "      <td>None</td>\n",
       "      <td>0</td>\n",
       "    </tr>\n",
       "    <tr>\n",
       "      <th>6</th>\n",
       "      <td>6</td>\n",
       "      <td>longitude</td>\n",
       "      <td>FLOAT</td>\n",
       "      <td>0</td>\n",
       "      <td>None</td>\n",
       "      <td>0</td>\n",
       "    </tr>\n",
       "    <tr>\n",
       "      <th>7</th>\n",
       "      <td>7</td>\n",
       "      <td>phone_number</td>\n",
       "      <td>BIGINT</td>\n",
       "      <td>0</td>\n",
       "      <td>None</td>\n",
       "      <td>0</td>\n",
       "    </tr>\n",
       "    <tr>\n",
       "      <th>8</th>\n",
       "      <td>8</td>\n",
       "      <td>TaxCode</td>\n",
       "      <td>VARCHAR(4)</td>\n",
       "      <td>0</td>\n",
       "      <td>None</td>\n",
       "      <td>0</td>\n",
       "    </tr>\n",
       "    <tr>\n",
       "      <th>9</th>\n",
       "      <td>9</td>\n",
       "      <td>business_certificate</td>\n",
       "      <td>INTEGER</td>\n",
       "      <td>0</td>\n",
       "      <td>None</td>\n",
       "      <td>0</td>\n",
       "    </tr>\n",
       "    <tr>\n",
       "      <th>10</th>\n",
       "      <td>10</td>\n",
       "      <td>application_date</td>\n",
       "      <td>DATE</td>\n",
       "      <td>0</td>\n",
       "      <td>None</td>\n",
       "      <td>0</td>\n",
       "    </tr>\n",
       "    <tr>\n",
       "      <th>11</th>\n",
       "      <td>11</td>\n",
       "      <td>owner_name</td>\n",
       "      <td>VARCHAR(99)</td>\n",
       "      <td>0</td>\n",
       "      <td>None</td>\n",
       "      <td>0</td>\n",
       "    </tr>\n",
       "    <tr>\n",
       "      <th>12</th>\n",
       "      <td>12</td>\n",
       "      <td>owner_address</td>\n",
       "      <td>VARCHAR(74)</td>\n",
       "      <td>0</td>\n",
       "      <td>None</td>\n",
       "      <td>0</td>\n",
       "    </tr>\n",
       "    <tr>\n",
       "      <th>13</th>\n",
       "      <td>13</td>\n",
       "      <td>owner_city</td>\n",
       "      <td>VARCHAR(22)</td>\n",
       "      <td>0</td>\n",
       "      <td>None</td>\n",
       "      <td>0</td>\n",
       "    </tr>\n",
       "    <tr>\n",
       "      <th>14</th>\n",
       "      <td>14</td>\n",
       "      <td>owner_state</td>\n",
       "      <td>VARCHAR(14)</td>\n",
       "      <td>0</td>\n",
       "      <td>None</td>\n",
       "      <td>0</td>\n",
       "    </tr>\n",
       "    <tr>\n",
       "      <th>15</th>\n",
       "      <td>15</td>\n",
       "      <td>owner_zip</td>\n",
       "      <td>VARCHAR(15)</td>\n",
       "      <td>0</td>\n",
       "      <td>None</td>\n",
       "      <td>0</td>\n",
       "    </tr>\n",
       "  </tbody>\n",
       "</table>\n",
       "</div>"
      ],
      "text/plain": [
       "    cid                  name         type  notnull dflt_value  pk\n",
       "0     0           business_id      INTEGER        1       None   0\n",
       "1     1                  name  VARCHAR(64)        0       None   0\n",
       "2     2               address  VARCHAR(50)        0       None   0\n",
       "3     3                  city  VARCHAR(23)        0       None   0\n",
       "4     4           postal_code   VARCHAR(9)        0       None   0\n",
       "5     5              latitude        FLOAT        0       None   0\n",
       "6     6             longitude        FLOAT        0       None   0\n",
       "7     7          phone_number       BIGINT        0       None   0\n",
       "8     8               TaxCode   VARCHAR(4)        0       None   0\n",
       "9     9  business_certificate      INTEGER        0       None   0\n",
       "10   10      application_date         DATE        0       None   0\n",
       "11   11            owner_name  VARCHAR(99)        0       None   0\n",
       "12   12         owner_address  VARCHAR(74)        0       None   0\n",
       "13   13            owner_city  VARCHAR(22)        0       None   0\n",
       "14   14           owner_state  VARCHAR(14)        0       None   0\n",
       "15   15             owner_zip  VARCHAR(15)        0       None   0"
      ]
     },
     "metadata": {},
     "output_type": "display_data"
    },
    {
     "name": "stdout",
     "output_type": "stream",
     "text": [
      "inspections\n"
     ]
    },
    {
     "data": {
      "text/html": [
       "<div>\n",
       "<style scoped>\n",
       "    .dataframe tbody tr th:only-of-type {\n",
       "        vertical-align: middle;\n",
       "    }\n",
       "\n",
       "    .dataframe tbody tr th {\n",
       "        vertical-align: top;\n",
       "    }\n",
       "\n",
       "    .dataframe thead th {\n",
       "        text-align: right;\n",
       "    }\n",
       "</style>\n",
       "<table border=\"1\" class=\"dataframe\">\n",
       "  <thead>\n",
       "    <tr style=\"text-align: right;\">\n",
       "      <th></th>\n",
       "      <th>cid</th>\n",
       "      <th>name</th>\n",
       "      <th>type</th>\n",
       "      <th>notnull</th>\n",
       "      <th>dflt_value</th>\n",
       "      <th>pk</th>\n",
       "    </tr>\n",
       "  </thead>\n",
       "  <tbody>\n",
       "    <tr>\n",
       "      <th>0</th>\n",
       "      <td>0</td>\n",
       "      <td>business_id</td>\n",
       "      <td>TEXT</td>\n",
       "      <td>1</td>\n",
       "      <td>None</td>\n",
       "      <td>0</td>\n",
       "    </tr>\n",
       "    <tr>\n",
       "      <th>1</th>\n",
       "      <td>1</td>\n",
       "      <td>Score</td>\n",
       "      <td>INTEGER</td>\n",
       "      <td>0</td>\n",
       "      <td>None</td>\n",
       "      <td>0</td>\n",
       "    </tr>\n",
       "    <tr>\n",
       "      <th>2</th>\n",
       "      <td>2</td>\n",
       "      <td>date</td>\n",
       "      <td>TEXT</td>\n",
       "      <td>1</td>\n",
       "      <td>None</td>\n",
       "      <td>0</td>\n",
       "    </tr>\n",
       "    <tr>\n",
       "      <th>3</th>\n",
       "      <td>3</td>\n",
       "      <td>type</td>\n",
       "      <td>VARCHAR(33)</td>\n",
       "      <td>1</td>\n",
       "      <td>None</td>\n",
       "      <td>0</td>\n",
       "    </tr>\n",
       "  </tbody>\n",
       "</table>\n",
       "</div>"
      ],
      "text/plain": [
       "   cid         name         type  notnull dflt_value  pk\n",
       "0    0  business_id         TEXT        1       None   0\n",
       "1    1        Score      INTEGER        0       None   0\n",
       "2    2         date         TEXT        1       None   0\n",
       "3    3         type  VARCHAR(33)        1       None   0"
      ]
     },
     "metadata": {},
     "output_type": "display_data"
    },
    {
     "name": "stdout",
     "output_type": "stream",
     "text": [
      "violations\n"
     ]
    },
    {
     "data": {
      "text/html": [
       "<div>\n",
       "<style scoped>\n",
       "    .dataframe tbody tr th:only-of-type {\n",
       "        vertical-align: middle;\n",
       "    }\n",
       "\n",
       "    .dataframe tbody tr th {\n",
       "        vertical-align: top;\n",
       "    }\n",
       "\n",
       "    .dataframe thead th {\n",
       "        text-align: right;\n",
       "    }\n",
       "</style>\n",
       "<table border=\"1\" class=\"dataframe\">\n",
       "  <thead>\n",
       "    <tr style=\"text-align: right;\">\n",
       "      <th></th>\n",
       "      <th>cid</th>\n",
       "      <th>name</th>\n",
       "      <th>type</th>\n",
       "      <th>notnull</th>\n",
       "      <th>dflt_value</th>\n",
       "      <th>pk</th>\n",
       "    </tr>\n",
       "  </thead>\n",
       "  <tbody>\n",
       "    <tr>\n",
       "      <th>0</th>\n",
       "      <td>0</td>\n",
       "      <td>business_id</td>\n",
       "      <td>TEXT</td>\n",
       "      <td>1</td>\n",
       "      <td>None</td>\n",
       "      <td>0</td>\n",
       "    </tr>\n",
       "    <tr>\n",
       "      <th>1</th>\n",
       "      <td>1</td>\n",
       "      <td>date</td>\n",
       "      <td>TEXT</td>\n",
       "      <td>1</td>\n",
       "      <td>None</td>\n",
       "      <td>0</td>\n",
       "    </tr>\n",
       "    <tr>\n",
       "      <th>2</th>\n",
       "      <td>2</td>\n",
       "      <td>ViolationTypeID</td>\n",
       "      <td>TEXT</td>\n",
       "      <td>1</td>\n",
       "      <td>None</td>\n",
       "      <td>0</td>\n",
       "    </tr>\n",
       "    <tr>\n",
       "      <th>3</th>\n",
       "      <td>3</td>\n",
       "      <td>risk_category</td>\n",
       "      <td>TEXT</td>\n",
       "      <td>1</td>\n",
       "      <td>None</td>\n",
       "      <td>0</td>\n",
       "    </tr>\n",
       "    <tr>\n",
       "      <th>4</th>\n",
       "      <td>4</td>\n",
       "      <td>description</td>\n",
       "      <td>TEXT</td>\n",
       "      <td>1</td>\n",
       "      <td>None</td>\n",
       "      <td>0</td>\n",
       "    </tr>\n",
       "  </tbody>\n",
       "</table>\n",
       "</div>"
      ],
      "text/plain": [
       "   cid             name  type  notnull dflt_value  pk\n",
       "0    0      business_id  TEXT        1       None   0\n",
       "1    1             date  TEXT        1       None   0\n",
       "2    2  ViolationTypeID  TEXT        1       None   0\n",
       "3    3    risk_category  TEXT        1       None   0\n",
       "4    4      description  TEXT        1       None   0"
      ]
     },
     "metadata": {},
     "output_type": "display_data"
    }
   ],
   "source": [
    "# This will open the connection\n",
    "# and print out the tables\n",
    "\n",
    "# the function takes as input the Cursor_Object and \n",
    "# returns the table in form of pd.DataFrame()\n",
    "def sql_to_frame(cu):\n",
    "    data = cu.fetchall()\n",
    "    data = list(list(x) for x in data)\n",
    "    dataColumns = [column[0] for column in cu.description]\n",
    "    df = pd.DataFrame(data, columns=dataColumns)\n",
    "    return df \n",
    "\n",
    "\n",
    "e_conn = sqlite3.connect('eateries.sqlite')\n",
    "c = e_conn.cursor()\n",
    "table_list =['businesses','inspections','violations']\n",
    "for t in table_list:\n",
    "    print(t)\n",
    "    c.execute(f\"PRAGMA table_info({t});\")\n",
    "    display(sql_to_frame(c))"
   ]
  },
  {
   "cell_type": "markdown",
   "id": "392b17ee",
   "metadata": {
    "deletable": false,
    "editable": false,
    "nbgrader": {
     "cell_type": "markdown",
     "checksum": "563a59273c7017145032738162ca497d",
     "grade": false,
     "grade_id": "cell-da73246db71440a2",
     "locked": true,
     "schema_version": 3,
     "solution": false,
     "task": false
    }
   },
   "source": [
    "-----------\n",
    "-----------\n",
    "\n",
    "a.) **(6 points)** How many restaurants do not have a precise geographic location given. Store the number (and only the number) in a variable called _locations_.\n",
    "\n",
    "------------\n"
   ]
  },
  {
   "cell_type": "code",
   "execution_count": 17,
   "id": "e6f61909",
   "metadata": {
    "deletable": false,
    "nbgrader": {
     "cell_type": "code",
     "checksum": "36a1ef098a2ac9f5088764c44047d7f7",
     "grade": false,
     "grade_id": "cell-37a09113d67aaefd",
     "locked": false,
     "schema_version": 3,
     "solution": true,
     "task": false
    }
   },
   "outputs": [
    {
     "name": "stdout",
     "output_type": "stream",
     "text": [
      "1\n"
     ]
    }
   ],
   "source": [
    "cursorObject = e_conn.cursor()\n",
    "# \"The City will provide financial relief for businesses with a Restaurant permit \\\n",
    "# (restaurant permits include H24, H25 and H26 only)\" - Source: https://sftreasurer.org/covid19\n",
    "# San Francisco tax codes for restaurants - H24, H25, H26\n",
    "locations = cursorObject.execute('''SELECT COUNT(name) FROM businesses\n",
    "                                    WHERE address IS NULL AND latitude IS NULL \n",
    "                                    AND TaxCode IN ('H24','H25','H26')''',).fetchall()[0][0]\n",
    "print(locations)"
   ]
  },
  {
   "cell_type": "code",
   "execution_count": null,
   "id": "b0398439",
   "metadata": {
    "deletable": false,
    "editable": false,
    "nbgrader": {
     "cell_type": "code",
     "checksum": "1c925ebc8519e5c0d7e59fbbf64c94e4",
     "grade": true,
     "grade_id": "cell-87bd180ed0f16326",
     "locked": true,
     "points": 5,
     "schema_version": 3,
     "solution": false,
     "task": false
    }
   },
   "outputs": [],
   "source": []
  },
  {
   "cell_type": "markdown",
   "id": "95a8c1b0",
   "metadata": {
    "deletable": false,
    "editable": false,
    "nbgrader": {
     "cell_type": "markdown",
     "checksum": "131e8f4fad3db9d4a476765a7d815db6",
     "grade": false,
     "grade_id": "cell-0aabbb629331e4fa",
     "locked": true,
     "schema_version": 3,
     "solution": false,
     "task": false
    }
   },
   "source": [
    "\n",
    "-----------\n",
    "-----------\n",
    "\n",
    "b.)  **(8 points )** How many spellings of San Francisco are there? (You can assume that all variations count including modifiers such as north, south, east, west) also refer to San Francisco. **You can obtain the result through visual inspection**. Store the number in a variable called _SF_\n",
    "\n",
    "------------\n"
   ]
  },
  {
   "cell_type": "code",
   "execution_count": 18,
   "id": "e495e75e",
   "metadata": {
    "deletable": false,
    "nbgrader": {
     "cell_type": "code",
     "checksum": "4e2e9422e3f0009381813974cb0e1e96",
     "grade": false,
     "grade_id": "cell-a6b91fb9ff5d9858",
     "locked": false,
     "schema_version": 3,
     "solution": true,
     "task": false
    }
   },
   "outputs": [
    {
     "name": "stdout",
     "output_type": "stream",
     "text": [
      "33\n"
     ]
    }
   ],
   "source": [
    "cursorObject = e_conn.cursor()\n",
    "SF_query = cursorObject.execute('''SELECT DISTINCT city FROM businesses''',).fetchall()\n",
    "not_SF = ['Novato', 'FOSTER CITY', 'DALY CITY','OAKLAND', 'HAYWARD', 'SAN BRUNO', 'CA', 'Oakland', None]\n",
    "SF_variants = [n[0] for n in SF_query if n[0] not in not_SF]\n",
    "SF = len(SF_variants)\n",
    "print(SF)"
   ]
  },
  {
   "cell_type": "code",
   "execution_count": null,
   "id": "d5ff832d",
   "metadata": {
    "deletable": false,
    "editable": false,
    "nbgrader": {
     "cell_type": "code",
     "checksum": "b43f639da68e45f99e0d8334bcac0708",
     "grade": true,
     "grade_id": "cell-59986dd4b63bb4a4",
     "locked": true,
     "points": 8,
     "schema_version": 3,
     "solution": false,
     "task": false
    }
   },
   "outputs": [],
   "source": []
  },
  {
   "cell_type": "markdown",
   "id": "ca9f481d",
   "metadata": {
    "deletable": false,
    "editable": false,
    "nbgrader": {
     "cell_type": "markdown",
     "checksum": "79c41206534915c9d866b78cdcc67310",
     "grade": false,
     "grade_id": "cell-6c640840d2fb34c5",
     "locked": true,
     "schema_version": 3,
     "solution": false,
     "task": false
    }
   },
   "source": [
    "\n",
    "-----------\n",
    "-----------\n",
    "\n",
    "c.) **(16 points)**  Create a histogram plot of the Inspection Scores for January 2014. \n",
    "- Here you should use the function _sql_to_frame()_ which takes a query and returns a pandas dataframe.\n",
    "- Remove any null values\n",
    "------------\n"
   ]
  },
  {
   "cell_type": "code",
   "execution_count": 19,
   "id": "0807b673",
   "metadata": {
    "deletable": false,
    "nbgrader": {
     "cell_type": "code",
     "checksum": "52ee25ce0a7562e46b808272b0f26b0c",
     "grade": true,
     "grade_id": "cell-cc1eed5e1150c151",
     "locked": false,
     "points": 16,
     "schema_version": 3,
     "solution": true,
     "task": false
    },
    "scrolled": false
   },
   "outputs": [
    {
     "data": {
      "image/png": "[encoded data removed]",
      "text/plain": [
       "<Figure size 1008x504 with 1 Axes>"
      ]
     },
     "metadata": {
      "needs_background": "light"
     },
     "output_type": "display_data"
    }
   ],
   "source": [
    "# Establishing the cursor\n",
    "cursorObject = e_conn.cursor()\n",
    "\n",
    "# Selecting the inspection scores filtered by date\n",
    "scores = cursorObject.execute('''SELECT Score FROM inspections\n",
    "                                 WHERE date BETWEEN 20140101 AND 20140131''',)\n",
    "\n",
    "# Converting the SQL search results into a pandas dataframe\n",
    "inspection_scores = sql_to_frame(scores).dropna()\n",
    "inspection_scores.rename(columns={'Score':'Inspection Score'},inplace=True)\n",
    "\n",
    "# Plotting the data from the dataframe into a histogram\n",
    "ax = inspection_scores.hist(figsize=(14,7),xlabelsize=14,ylabelsize=14,bins=range(60,100+1,5),color = \"midnightblue\");\n",
    "ax[0][0].set_title('Inspection Scores for Businesses in San Francisco during January 2014', fontsize = 20);\n",
    "ax[0][0].set_xlabel('Inspection Score', fontsize = 18);\n",
    "ax[0][0].set_ylabel('Frequency', fontsize = 18);"
   ]
  },
  {
   "cell_type": "code",
   "execution_count": 20,
   "id": "7687d504",
   "metadata": {},
   "outputs": [],
   "source": [
    "e_conn.close()"
   ]
  }
 ],
 "metadata": {
  "kernelspec": {
   "display_name": "Python 3 (ipykernel)",
   "language": "python",
   "name": "python3"
  },
  "language_info": {
   "codemirror_mode": {
    "name": "ipython",
    "version": 3
   },
   "file_extension": ".py",
   "mimetype": "text/x-python",
   "name": "python",
   "nbconvert_exporter": "python",
   "pygments_lexer": "ipython3",
   "version": "3.9.7"
  }
 },
 "nbformat": 4,
 "nbformat_minor": 5
}
